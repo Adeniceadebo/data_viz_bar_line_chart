{
 "cells": [
  {
   "cell_type": "code",
   "execution_count": null,
   "id": "01004e6a",
   "metadata": {},
   "outputs": [],
   "source": [
    "import pandas as pd\n",
    "import matplotlib.pyplot as plt\n",
    "from matplotlib.ticker import PercentFormatter"
   ]
  },
  {
   "cell_type": "code",
   "execution_count": 4,
   "id": "eb3dcec0",
   "metadata": {},
   "outputs": [
    {
     "data": {
      "text/html": [
       "<div>\n",
       "<style scoped>\n",
       "    .dataframe tbody tr th:only-of-type {\n",
       "        vertical-align: middle;\n",
       "    }\n",
       "\n",
       "    .dataframe tbody tr th {\n",
       "        vertical-align: top;\n",
       "    }\n",
       "\n",
       "    .dataframe thead th {\n",
       "        text-align: right;\n",
       "    }\n",
       "</style>\n",
       "<table border=\"1\" class=\"dataframe\">\n",
       "  <thead>\n",
       "    <tr style=\"text-align: right;\">\n",
       "      <th></th>\n",
       "      <th>Movie Theater Goers Complaints</th>\n",
       "      <th>Number of complaints</th>\n",
       "      <th>frequency</th>\n",
       "    </tr>\n",
       "  </thead>\n",
       "  <tbody>\n",
       "    <tr>\n",
       "      <th>0</th>\n",
       "      <td>Poor Projection Quality</td>\n",
       "      <td>3821</td>\n",
       "      <td>0.727532</td>\n",
       "    </tr>\n",
       "    <tr>\n",
       "      <th>1</th>\n",
       "      <td>Bad Volume</td>\n",
       "      <td>684</td>\n",
       "      <td>0.857768</td>\n",
       "    </tr>\n",
       "    <tr>\n",
       "      <th>2</th>\n",
       "      <td>Screen Size</td>\n",
       "      <td>298</td>\n",
       "      <td>0.914509</td>\n",
       "    </tr>\n",
       "    <tr>\n",
       "      <th>3</th>\n",
       "      <td>Bad Seats</td>\n",
       "      <td>232</td>\n",
       "      <td>0.958682</td>\n",
       "    </tr>\n",
       "    <tr>\n",
       "      <th>4</th>\n",
       "      <td>Queues</td>\n",
       "      <td>217</td>\n",
       "      <td>1.000000</td>\n",
       "    </tr>\n",
       "  </tbody>\n",
       "</table>\n",
       "</div>"
      ],
      "text/plain": [
       "  Movie Theater Goers Complaints  Number of complaints  frequency\n",
       "0        Poor Projection Quality                  3821   0.727532\n",
       "1                     Bad Volume                   684   0.857768\n",
       "2                    Screen Size                   298   0.914509\n",
       "3                      Bad Seats                   232   0.958682\n",
       "4                         Queues                   217   1.000000"
      ]
     },
     "execution_count": 4,
     "metadata": {},
     "output_type": "execute_result"
    }
   ],
   "source": [
    "df_complaints_data = pd.read_csv('movie_theater_complaints_data.csv')\n",
    "df_complaints_data"
   ]
  },
  {
   "cell_type": "code",
   "execution_count": null,
   "id": "79b280b8",
   "metadata": {},
   "outputs": [],
   "source": [
    "fig, ax = plt.subplots(figsize=(10, 6))\n",
    "ax.bar(df_complaints_data['Movie theater Goers Complaints'], df_complaints_data['Number of complaints'], color='skyblue')\n",
    "ax1 = ax.twinx()\n",
    "ax1.plot(df_complaints_data['Movie theater Goers Complaints'], df_complaints_data['frequency'], color='orange', marker='o')\n",
    "plt.title('Frequency and Count of Common Complaints Among Movie Theater Goers')\n",
    "plt.xlabel('Complaints')\n",
    "plt.ylabel('Number of Complaints')\n",
    "ax1.set_ylabel('Frequency')\n",
    "plt.savefig('movie_theater_complaints_analysis.png', dpi=300)\n",
    "plt.show()"
   ]
  },
  {
   "cell_type": "code",
   "execution_count": null,
   "id": "e973dd45",
   "metadata": {},
   "outputs": [],
   "source": []
  }
 ],
 "metadata": {
  "kernelspec": {
   "display_name": "base",
   "language": "python",
   "name": "python3"
  },
  "language_info": {
   "codemirror_mode": {
    "name": "ipython",
    "version": 3
   },
   "file_extension": ".py",
   "mimetype": "text/x-python",
   "name": "python",
   "nbconvert_exporter": "python",
   "pygments_lexer": "ipython3",
   "version": "3.12.7"
  }
 },
 "nbformat": 4,
 "nbformat_minor": 5
}
